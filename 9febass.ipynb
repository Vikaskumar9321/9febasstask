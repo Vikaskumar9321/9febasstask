{
 "cells": [
  {
   "cell_type": "markdown",
   "id": "30979633-694c-48fa-b341-3affaf558580",
   "metadata": {},
   "source": [
    "#Ans1"
   ]
  },
  {
   "cell_type": "code",
   "execution_count": 1,
   "id": "f05959aa-a4d9-4f57-921e-098fadbc3f32",
   "metadata": {},
   "outputs": [],
   "source": [
    "class vehicle:\n",
    "    def __init__(self, name_of_vehicle, max_speed , average_of_vehicle):\n",
    "        self.name_of_vehicle = name_of_vehicle\n",
    "        self.max_speed = max_speed\n",
    "        self.average_of_vehicle = average_of_vehicle\n",
    "        "
   ]
  },
  {
   "cell_type": "code",
   "execution_count": 2,
   "id": "5b3a84c0-6a26-44c2-995e-08143a8c351c",
   "metadata": {},
   "outputs": [],
   "source": [
    "my_vehicle = vehicle(\"Car\" , 200 , 35)"
   ]
  },
  {
   "cell_type": "code",
   "execution_count": 5,
   "id": "8c7934eb-ba81-45a1-976c-a89af0697566",
   "metadata": {},
   "outputs": [
    {
     "data": {
      "text/plain": [
       "'Car'"
      ]
     },
     "execution_count": 5,
     "metadata": {},
     "output_type": "execute_result"
    }
   ],
   "source": [
    "my_vehicle.name_of_vehicle"
   ]
  },
  {
   "cell_type": "code",
   "execution_count": 6,
   "id": "7ccca962-73f7-4ca4-a423-96606bc217dc",
   "metadata": {},
   "outputs": [
    {
     "data": {
      "text/plain": [
       "200"
      ]
     },
     "execution_count": 6,
     "metadata": {},
     "output_type": "execute_result"
    }
   ],
   "source": [
    "my_vehicle.max_speed"
   ]
  },
  {
   "cell_type": "code",
   "execution_count": 7,
   "id": "fe19a5ee-9da7-40df-80db-6abbd6cad259",
   "metadata": {},
   "outputs": [
    {
     "data": {
      "text/plain": [
       "35"
      ]
     },
     "execution_count": 7,
     "metadata": {},
     "output_type": "execute_result"
    }
   ],
   "source": [
    "my_vehicle.average_of_vehicle"
   ]
  },
  {
   "cell_type": "markdown",
   "id": "d446a188-d714-4a9e-b771-3969b33ccb90",
   "metadata": {},
   "source": [
    "#Ans 2"
   ]
  },
  {
   "cell_type": "code",
   "execution_count": 8,
   "id": "8fab4363-f8ee-48d0-9810-6a85dd04ae11",
   "metadata": {},
   "outputs": [],
   "source": [
    "class car(vehicle):\n",
    "    def __init__(self,name_of_vehicle, max_speed, average_of_vehicle):\n",
    "        super().__init__(name_of_vehicle, max_speed, average_of_vehicle)\n",
    "        \n",
    "    def seating_capacity(self, capacity):\n",
    "        return f\"{self.name_of_vehicle} has a seating capacity of {capacity} passengers.\""
   ]
  },
  {
   "cell_type": "code",
   "execution_count": 10,
   "id": "7a3de7df-a266-4030-8dc9-63192e8fcc72",
   "metadata": {},
   "outputs": [],
   "source": [
    "my_car = car(\"Kia\" , 220, 30)"
   ]
  },
  {
   "cell_type": "code",
   "execution_count": 11,
   "id": "2e09b382-393a-45c4-9498-9c842cc49955",
   "metadata": {},
   "outputs": [
    {
     "data": {
      "text/plain": [
       "'Kia has a seating capacity of 8 passengers.'"
      ]
     },
     "execution_count": 11,
     "metadata": {},
     "output_type": "execute_result"
    }
   ],
   "source": [
    "my_car.seating_capacity(8)"
   ]
  },
  {
   "cell_type": "markdown",
   "id": "d3d8f6f1-8864-4cdc-8476-de948daa9f5f",
   "metadata": {},
   "source": [
    "#Ans 3"
   ]
  },
  {
   "cell_type": "markdown",
   "id": "47bd8e4f-fcb4-41b9-832f-76cf4a219924",
   "metadata": {},
   "source": [
    "Multiple inheritancec is a feature in object-oriented-programming where a subclass can inherit from multiple parents classes. This means that the subclass will have access to the attributes and  method of all its parent class"
   ]
  },
  {
   "cell_type": "code",
   "execution_count": 12,
   "id": "0de5c13c-703d-4faf-b0fb-0542437b4f80",
   "metadata": {},
   "outputs": [],
   "source": [
    "class animal:\n",
    "    def __init__(self, species):\n",
    "        self.species = species\n",
    "    def eat(self):\n",
    "        return \"Animal is eating .\"\n",
    "class pet:\n",
    "    def __init__(self, name , age):\n",
    "        self.name = name\n",
    "        self.age = age\n",
    "    def play(self):\n",
    "        return \"pet is playing.\"\n",
    "class Dog(animal, pet):\n",
    "    def __init__(self, name , age , breed):\n",
    "        animal.__init__(self,Dog)\n",
    "        pet.__init__(self , name , age)\n",
    "        self.breed = breed\n",
    "    def bark(self):\n",
    "        return \"Dog is barking\""
   ]
  },
  {
   "cell_type": "code",
   "execution_count": 16,
   "id": "42a6ed47-e49c-440f-baf0-471c7fc523d1",
   "metadata": {},
   "outputs": [],
   "source": [
    "my_dog = Dog(\"julie\" , 3 ,\"Tibeten mastive\" )"
   ]
  },
  {
   "cell_type": "code",
   "execution_count": 17,
   "id": "c975fbed-416c-4563-9d24-b369e3d36e4a",
   "metadata": {},
   "outputs": [
    {
     "data": {
      "text/plain": [
       "'julie'"
      ]
     },
     "execution_count": 17,
     "metadata": {},
     "output_type": "execute_result"
    }
   ],
   "source": [
    "my_dog.name"
   ]
  },
  {
   "cell_type": "code",
   "execution_count": 19,
   "id": "305a94d7-afd9-4963-b18f-213aa249860a",
   "metadata": {},
   "outputs": [
    {
     "data": {
      "text/plain": [
       "'Animal is eating .'"
      ]
     },
     "execution_count": 19,
     "metadata": {},
     "output_type": "execute_result"
    }
   ],
   "source": [
    "my_dog.eat()"
   ]
  },
  {
   "cell_type": "markdown",
   "id": "4970e080-fea1-4daa-9bdf-a9b086935c8e",
   "metadata": {},
   "source": [
    "#Ans 4"
   ]
  },
  {
   "cell_type": "markdown",
   "id": "3d64b606-a443-4340-85ae-c6e90d8b6449",
   "metadata": {},
   "source": [
    "Getter and Setter methods are used to access and modify the  private attributes of a class in Python. They are also known as accessor and mutator methods, respectively. The getter method returns the value of the private attribute, while the setter method sets the value of the prlivate attribute."
   ]
  },
  {
   "cell_type": "code",
   "execution_count": 20,
   "id": "fbfe0958-4893-4d3b-be53-3a0acfd53f17",
   "metadata": {},
   "outputs": [],
   "source": [
    "class student:\n",
    "    def __init__(self, name, age):\n",
    "        self.__name = name\n",
    "        self.__age = age\n",
    "    \n",
    "    def get_name(self):\n",
    "        return self.__name\n",
    "    \n",
    "    def set_name(self, name):\n",
    "        self.__name = name\n",
    "        \n",
    "    def get_age(self):\n",
    "        return self.__age\n",
    "    def set_age(self, age):\n",
    "        self.__age = age"
   ]
  },
  {
   "cell_type": "code",
   "execution_count": 21,
   "id": "30ecf231-7990-4e3a-ba15-76ede6d231e8",
   "metadata": {},
   "outputs": [],
   "source": [
    "my_student = student(\"Ayush\" , 26)"
   ]
  },
  {
   "cell_type": "code",
   "execution_count": 24,
   "id": "94224cf6-9307-4320-8e70-f72acdfec1eb",
   "metadata": {},
   "outputs": [
    {
     "data": {
      "text/plain": [
       "'Ayush'"
      ]
     },
     "execution_count": 24,
     "metadata": {},
     "output_type": "execute_result"
    }
   ],
   "source": [
    "my_student.get_name()"
   ]
  },
  {
   "cell_type": "code",
   "execution_count": 25,
   "id": "121e7e1c-9a5b-424f-8a82-db2f8510a718",
   "metadata": {},
   "outputs": [
    {
     "data": {
      "text/plain": [
       "26"
      ]
     },
     "execution_count": 25,
     "metadata": {},
     "output_type": "execute_result"
    }
   ],
   "source": [
    "my_student.get_age()"
   ]
  },
  {
   "cell_type": "code",
   "execution_count": 26,
   "id": "58e8a788-101c-46d6-b1d0-fd82e6b8f613",
   "metadata": {},
   "outputs": [],
   "source": [
    "my_student.set_name(\"Vikas\")"
   ]
  },
  {
   "cell_type": "code",
   "execution_count": 27,
   "id": "81d39c77-abb9-4841-8ae8-ec51f53598af",
   "metadata": {},
   "outputs": [],
   "source": [
    "my_student.set_age(27)"
   ]
  },
  {
   "cell_type": "code",
   "execution_count": 28,
   "id": "4b5d6e6a-98b8-4885-8a6c-9261f3425438",
   "metadata": {},
   "outputs": [
    {
     "data": {
      "text/plain": [
       "'Vikas'"
      ]
     },
     "execution_count": 28,
     "metadata": {},
     "output_type": "execute_result"
    }
   ],
   "source": [
    "my_student.get_name()"
   ]
  },
  {
   "cell_type": "code",
   "execution_count": 29,
   "id": "1df59846-5876-477b-8324-f0c281227f53",
   "metadata": {},
   "outputs": [
    {
     "data": {
      "text/plain": [
       "27"
      ]
     },
     "execution_count": 29,
     "metadata": {},
     "output_type": "execute_result"
    }
   ],
   "source": [
    "my_student.get_age()"
   ]
  },
  {
   "cell_type": "markdown",
   "id": "1873dd70-f96e-42ef-b0f6-92838fa7a47a",
   "metadata": {},
   "source": [
    "#Ans 5"
   ]
  },
  {
   "cell_type": "raw",
   "id": "e785faf6-34a2-463f-a4d3-8f47fa5ed4dc",
   "metadata": {},
   "source": [
    "Method overriding is a feature in orbject-oriented-programming where a subclass provides a different implementation for a method that is already defined in its parents class. When the method is called on  an instance of the subclass, the subclass implementation is used instead of the parents class implementation"
   ]
  },
  {
   "cell_type": "code",
   "execution_count": 42,
   "id": "3eb2d77e-1a65-4865-9f56-bf836b5edd79",
   "metadata": {},
   "outputs": [],
   "source": [
    "class animal:\n",
    "    def make_sound(self):\n",
    "        print (\"Animal is making a sound.\")\n",
    "class Dog(animal):\n",
    "    def make_sound(self):\n",
    "        print (\"Dog is barking.\")\n",
    "class Cat(animal):\n",
    "    def make_sound(self):\n",
    "        print (\"Cat is meowing.\")"
   ]
  },
  {
   "cell_type": "code",
   "execution_count": 43,
   "id": "4869653b-8867-4049-bf7d-b4c097e6ae84",
   "metadata": {},
   "outputs": [],
   "source": [
    "my_animals = [animal() , Dog(), Cat()]"
   ]
  },
  {
   "cell_type": "code",
   "execution_count": 44,
   "id": "a1362afc-51ee-410d-9714-8c5f8c84bcb6",
   "metadata": {},
   "outputs": [
    {
     "name": "stdout",
     "output_type": "stream",
     "text": [
      "Animal is making a sound.\n",
      "Dog is barking.\n",
      "Cat is meowing.\n"
     ]
    }
   ],
   "source": [
    "for animal in my_animals:\n",
    "    animal.make_sound()"
   ]
  },
  {
   "cell_type": "code",
   "execution_count": 36,
   "id": "2eecf7a4-5b58-4b66-9fd8-54f85075accd",
   "metadata": {},
   "outputs": [
    {
     "ename": "TypeError",
     "evalue": "Dog.make_sound() missing 1 required positional argument: 'self'",
     "output_type": "error",
     "traceback": [
      "\u001b[0;31m---------------------------------------------------------------------------\u001b[0m",
      "\u001b[0;31mTypeError\u001b[0m                                 Traceback (most recent call last)",
      "Cell \u001b[0;32mIn[36], line 1\u001b[0m\n\u001b[0;32m----> 1\u001b[0m \u001b[43mDog\u001b[49m\u001b[38;5;241;43m.\u001b[39;49m\u001b[43mmake_sound\u001b[49m\u001b[43m(\u001b[49m\u001b[43m)\u001b[49m\n",
      "\u001b[0;31mTypeError\u001b[0m: Dog.make_sound() missing 1 required positional argument: 'self'"
     ]
    }
   ],
   "source": []
  },
  {
   "cell_type": "code",
   "execution_count": null,
   "id": "9f1c59e7-fc68-43ea-957f-ff20bd734f39",
   "metadata": {},
   "outputs": [],
   "source": []
  }
 ],
 "metadata": {
  "kernelspec": {
   "display_name": "Python 3 (ipykernel)",
   "language": "python",
   "name": "python3"
  },
  "language_info": {
   "codemirror_mode": {
    "name": "ipython",
    "version": 3
   },
   "file_extension": ".py",
   "mimetype": "text/x-python",
   "name": "python",
   "nbconvert_exporter": "python",
   "pygments_lexer": "ipython3",
   "version": "3.10.8"
  }
 },
 "nbformat": 4,
 "nbformat_minor": 5
}
